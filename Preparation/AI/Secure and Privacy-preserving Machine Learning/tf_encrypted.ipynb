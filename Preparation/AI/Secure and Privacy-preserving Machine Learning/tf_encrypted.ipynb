{
 "cells": [
  {
   "cell_type": "markdown",
   "metadata": {},
   "source": [
    "### Installation\n",
    "\n",
    "`pip install tf-encrypted`"
   ]
  },
  {
   "cell_type": "code",
   "execution_count": 13,
   "metadata": {},
   "outputs": [],
   "source": [
    "import pandas as pd\n",
    "import logging\n",
    "# suppress warnings\n",
    "for name in logging.Logger.manager.loggerDict.keys():\n",
    "    logging.getLogger(name).setLevel(logging.CRITICAL)\n",
    "import tensorflow as tf\n",
    "import tf_encrypted as tfe"
   ]
  },
  {
   "cell_type": "markdown",
   "metadata": {},
   "source": [
    "Load dataset first in plaintext, in this case the Boston housing price dataset."
   ]
  },
  {
   "cell_type": "code",
   "execution_count": 14,
   "metadata": {},
   "outputs": [],
   "source": [
    "csv_file = tf.keras.utils.get_file('heart.csv', 'https://storage.googleapis.com/download.tensorflow.org/data/heart.csv')\n",
    "df = pd.read_csv(csv_file)\n",
    "# Shuffle dataframe\n",
    "df = df.sample(frac=1)\n",
    "# Divide into features and target variables\n",
    "X, y = df[df.columns[:-2]].values, df[df.columns[-1]].values\n",
    "# Scale features to [0,1]\n",
    "X = (X - X.min()) / (X.max() - X.min()) * (1 - 0) + 0 \n",
    "# Divide into training and test data\n",
    "train_X, train_y, = X[:int(len(X)*0.8)], y[:int(len(X)*0.8)]\n",
    "test_X, test_y = X[int(len(X)*0.8):], y[int(len(X)*0.8):]"
   ]
  },
  {
   "cell_type": "markdown",
   "metadata": {},
   "source": [
    "Encrypt dataset using DataOwner class from common.py"
   ]
  },
  {
   "cell_type": "code",
   "execution_count": 15,
   "metadata": {},
   "outputs": [],
   "source": [
    "from lib.common import DataOwner\n",
    "num_features = X.shape[1]\n",
    "training_set_size = int(len(X)*0.8)\n",
    "test_set_size = int(len(X)*0.2)\n",
    "batch_size = 4\n",
    "data_owner = DataOwner(\n",
    "    \"data-owner\", num_features, training_set_size, test_set_size, batch_size\n",
    ")\n",
    "train_X, train_y = data_owner.provide_training_data(train_X,train_y)\n",
    "test_X, test_y = data_owner.provide_testing_data(test_X,test_y)"
   ]
  },
  {
   "cell_type": "markdown",
   "metadata": {},
   "source": [
    "Create a model using Keras and convert to a encrypted model."
   ]
  },
  {
   "cell_type": "code",
   "execution_count": 16,
   "metadata": {},
   "outputs": [],
   "source": [
    "model = tf.keras.Sequential([\n",
    "    tf.keras.layers.Dense(20,activation='sigmoid',batch_input_shape=[batch_size, num_features]),\n",
    "    tf.keras.layers.Dense(10,activation='sigmoid'),\n",
    "    tf.keras.layers.Dense(1,activation='sigmoid')]\n",
    ")\n",
    "encrypted_model = tfe.keras.models.clone_model(model)"
   ]
  },
  {
   "cell_type": "code",
   "execution_count": 17,
   "metadata": {},
   "outputs": [
    {
     "name": "stdout",
     "output_type": "stream",
     "text": [
      "Epoch 1/10\n",
      "240/240 [==============================] - 12s 50ms/step - loss: 0.7564\n",
      "Epoch 2/10\n",
      "240/240 [==============================] - 2s 9ms/step - loss: 0.6495\n",
      "Epoch 3/10\n",
      "240/240 [==============================] - 2s 10ms/step - loss: 0.5985\n",
      "Epoch 4/10\n",
      "240/240 [==============================] - 2s 8ms/step - loss: 0.5772\n",
      "Epoch 5/10\n",
      "240/240 [==============================] - 2s 7ms/step - loss: 0.6018\n",
      "Epoch 6/10\n",
      "240/240 [==============================] - 2s 7ms/step - loss: 0.5497\n",
      "Epoch 7/10\n",
      "240/240 [==============================] - 2s 7ms/step - loss: 0.6123\n",
      "Epoch 8/10\n",
      "240/240 [==============================] - 2s 7ms/step - loss: 0.5678\n",
      "Epoch 9/10\n",
      "240/240 [==============================] - 2s 7ms/step - loss: 0.5633\n",
      "Epoch 10/10\n",
      "240/240 [==============================] - 2s 7ms/step - loss: 0.6013\n"
     ]
    }
   ],
   "source": [
    "from tf_encrypted.keras.losses import BinaryCrossentropy\n",
    "from tf_encrypted.keras.optimizers import SGD\n",
    "from tf_encrypted.keras import backend as KE\n",
    "\n",
    "sess = KE.get_session()\n",
    "sess.run([data_owner.initializer])\n",
    "optimizer = SGD(lr=0.01)\n",
    "loss = BinaryCrossentropy()\n",
    "encrypted_model.compile(optimizer=optimizer, loss=loss)\n",
    "encrypted_model.fit(train_X, train_y, epochs=10, steps_per_epoch = training_set_size // batch_size)"
   ]
  },
  {
   "cell_type": "markdown",
   "metadata": {},
   "source": [
    "Use the model to predict on encrypted data"
   ]
  },
  {
   "cell_type": "code",
   "execution_count": 18,
   "metadata": {},
   "outputs": [
    {
     "data": {
      "text/plain": [
       "array([0.26047859])"
      ]
     },
     "execution_count": 18,
     "metadata": {},
     "output_type": "execute_result"
    }
   ],
   "source": [
    "from lib.common import PredictionClient\n",
    "prediction_client = PredictionClient(\"prediction-client\", num_features)\n",
    "predictions_encrypted = encrypted_model(test_X)\n",
    "predictions_plaintext = sess.run(predictions_encrypted.reveal())\n",
    "predictions_plaintext[0]"
   ]
  },
  {
   "cell_type": "code",
   "execution_count": null,
   "metadata": {},
   "outputs": [],
   "source": []
  }
 ],
 "metadata": {
  "kernelspec": {
   "display_name": "Python [conda env:tfencrypted]",
   "language": "python",
   "name": "conda-env-tfencrypted-py"
  },
  "language_info": {
   "codemirror_mode": {
    "name": "ipython",
    "version": 3
   },
   "file_extension": ".py",
   "mimetype": "text/x-python",
   "name": "python",
   "nbconvert_exporter": "python",
   "pygments_lexer": "ipython3",
   "version": "3.7.10"
  }
 },
 "nbformat": 4,
 "nbformat_minor": 4
}
