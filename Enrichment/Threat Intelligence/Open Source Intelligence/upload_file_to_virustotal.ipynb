{
 "cells": [
  {
   "cell_type": "markdown",
   "metadata": {},
   "source": [
    "# OSINT\n",
    "\n",
    "### Gather files in operating system to check if they are malicious\n",
    "\n",
    "**Windows**\n",
    "* [Elasticsearch Filebeat](https://www.elastic.co/beats/filebeat)"
   ]
  },
  {
   "cell_type": "markdown",
   "metadata": {},
   "source": [
    "# VirusTotal\n",
    "\n",
    "### Query a file smaller than 32 MB\n",
    "Querying files larger than 32 megabytes requires additional privileges from VirusTotal.\n",
    "\n",
    "API query URL: https://www.virustotal.com/vtapi/v2/file/scan\n",
    "The query requires API key and the file to be scanned in binary format."
   ]
  },
  {
   "cell_type": "code",
   "execution_count": 1,
   "metadata": {},
   "outputs": [
    {
     "name": "stdout",
     "output_type": "stream",
     "text": [
      "Waiting for scan results...\n"
     ]
    },
    {
     "data": {
      "application/json": {
       "md5": "5d4c46be1524d189345f5b87853b2b65",
       "permalink": "https://www.virustotal.com/gui/file/68d96d28bda975226ab021cd8a0f521ab5cb8f4cb676a7c945bf768bec834a15/detection/f-68d96d28bda975226ab021cd8a0f521ab5cb8f4cb676a7c945bf768bec834a15-1619002005",
       "positives": 0,
       "resource": "68d96d28bda975226ab021cd8a0f521ab5cb8f4cb676a7c945bf768bec834a15-1619002005",
       "response_code": 1,
       "scan_date": "2021-04-21 10:46:45",
       "scan_id": "68d96d28bda975226ab021cd8a0f521ab5cb8f4cb676a7c945bf768bec834a15-1619002005",
       "scans": {
        "ALYac": {
         "detected": false,
         "result": null,
         "update": "20210421",
         "version": "1.1.3.1"
        },
        "APEX": {
         "detected": false,
         "result": null,
         "update": "20210419",
         "version": "6.155"
        },
        "Acronis": {
         "detected": false,
         "result": null,
         "update": "20210211",
         "version": "1.1.1.81"
        },
        "Ad-Aware": {
         "detected": false,
         "result": null,
         "update": "20210421",
         "version": "3.0.16.117"
        },
        "AegisLab": {
         "detected": false,
         "result": null,
         "update": "20210421",
         "version": "4.2"
        },
        "AhnLab-V3": {
         "detected": false,
         "result": null,
         "update": "20210421",
         "version": "3.19.7.10132"
        },
        "Alibaba": {
         "detected": false,
         "result": null,
         "update": "20190527",
         "version": "0.3.0.5"
        },
        "Antiy-AVL": {
         "detected": false,
         "result": null,
         "update": "20210421",
         "version": "3.0.0.1"
        },
        "Arcabit": {
         "detected": false,
         "result": null,
         "update": "20210421",
         "version": "1.0.0.886"
        },
        "Avast": {
         "detected": false,
         "result": null,
         "update": "20210421",
         "version": "21.1.5827.0"
        },
        "Avira": {
         "detected": false,
         "result": null,
         "update": "20210421",
         "version": "8.3.3.12"
        },
        "Baidu": {
         "detected": false,
         "result": null,
         "update": "20190318",
         "version": "1.0.0.2"
        },
        "BitDefender": {
         "detected": false,
         "result": null,
         "update": "20210421",
         "version": "7.2"
        },
        "BitDefenderTheta": {
         "detected": false,
         "result": null,
         "update": "20210414",
         "version": "7.2.37796.0"
        },
        "Bkav": {
         "detected": false,
         "result": null,
         "update": "20210420",
         "version": "1.3.0.9899"
        },
        "CAT-QuickHeal": {
         "detected": false,
         "result": null,
         "update": "20210421",
         "version": "14.00"
        },
        "CMC": {
         "detected": false,
         "result": null,
         "update": "20210327",
         "version": "2.10.2019.1"
        },
        "ClamAV": {
         "detected": false,
         "result": null,
         "update": "20210420",
         "version": "0.103.2.0"
        },
        "Comodo": {
         "detected": false,
         "result": null,
         "update": "20210420",
         "version": "33454"
        },
        "CrowdStrike": {
         "detected": false,
         "result": null,
         "update": "20210203",
         "version": "1.0"
        },
        "Cybereason": {
         "detected": false,
         "result": null,
         "update": "20210330",
         "version": "1.2.449"
        },
        "Cylance": {
         "detected": false,
         "result": null,
         "update": "20210421",
         "version": "2.3.1.101"
        },
        "Cynet": {
         "detected": false,
         "result": null,
         "update": "20210412",
         "version": "4.0.0.27"
        },
        "Cyren": {
         "detected": false,
         "result": null,
         "update": "20210421",
         "version": "6.3.0.2"
        },
        "DrWeb": {
         "detected": false,
         "result": null,
         "update": "20210421",
         "version": "7.0.49.9080"
        },
        "ESET-NOD32": {
         "detected": false,
         "result": null,
         "update": "20210421",
         "version": "23168"
        },
        "Elastic": {
         "detected": false,
         "result": null,
         "update": "20210420",
         "version": "4.0.21"
        },
        "Emsisoft": {
         "detected": false,
         "result": null,
         "update": "20210421",
         "version": "2018.12.0.1641"
        },
        "F-Secure": {
         "detected": false,
         "result": null,
         "update": "20210331",
         "version": "12.0.86.52"
        },
        "FireEye": {
         "detected": false,
         "result": null,
         "update": "20210421",
         "version": "32.44.1.0"
        },
        "Fortinet": {
         "detected": false,
         "result": null,
         "update": "20210421",
         "version": "6.2.142.0"
        },
        "GData": {
         "detected": false,
         "result": null,
         "update": "20210421",
         "version": "A:25.29390B:27.22736"
        },
        "Gridinsoft": {
         "detected": false,
         "result": null,
         "update": "20210421",
         "version": "1.0.38.130"
        },
        "Ikarus": {
         "detected": false,
         "result": null,
         "update": "20210421",
         "version": "0.1.5.2"
        },
        "Jiangmin": {
         "detected": false,
         "result": null,
         "update": "20210420",
         "version": "16.0.100"
        },
        "K7AntiVirus": {
         "detected": false,
         "result": null,
         "update": "20210421",
         "version": "11.177.36985"
        },
        "K7GW": {
         "detected": false,
         "result": null,
         "update": "20210421",
         "version": "11.177.36987"
        },
        "Kaspersky": {
         "detected": false,
         "result": null,
         "update": "20210421",
         "version": "21.0.1.45"
        },
        "Kingsoft": {
         "detected": false,
         "result": null,
         "update": "20210421",
         "version": "2017.9.26.565"
        },
        "MAX": {
         "detected": false,
         "result": null,
         "update": "20210421",
         "version": "2019.9.16.1"
        },
        "Malwarebytes": {
         "detected": false,
         "result": null,
         "update": "20210421",
         "version": "4.2.2.27"
        },
        "MaxSecure": {
         "detected": false,
         "result": null,
         "update": "20210420",
         "version": "1.0.0.1"
        },
        "McAfee": {
         "detected": false,
         "result": null,
         "update": "20210421",
         "version": "6.0.6.653"
        },
        "McAfee-GW-Edition": {
         "detected": false,
         "result": null,
         "update": "20210420",
         "version": "v2019.1.2+3728"
        },
        "MicroWorld-eScan": {
         "detected": false,
         "result": null,
         "update": "20210421",
         "version": "14.0.409.0"
        },
        "Microsoft": {
         "detected": false,
         "result": null,
         "update": "20210421",
         "version": "1.1.18000.5"
        },
        "NANO-Antivirus": {
         "detected": false,
         "result": null,
         "update": "20210421",
         "version": "1.0.146.25279"
        },
        "Paloalto": {
         "detected": false,
         "result": null,
         "update": "20210421",
         "version": "1.0"
        },
        "Panda": {
         "detected": false,
         "result": null,
         "update": "20210420",
         "version": "4.6.4.2"
        },
        "Qihoo-360": {
         "detected": false,
         "result": null,
         "update": "20210421",
         "version": "1.0.0.1120"
        },
        "Rising": {
         "detected": false,
         "result": null,
         "update": "20210421",
         "version": "25.0.0.26"
        },
        "SUPERAntiSpyware": {
         "detected": false,
         "result": null,
         "update": "20210416",
         "version": "5.6.0.1032"
        },
        "Sangfor": {
         "detected": false,
         "result": null,
         "update": "20210416",
         "version": "2.9.0.0"
        },
        "SentinelOne": {
         "detected": false,
         "result": null,
         "update": "20210215",
         "version": "5.0.0.20"
        },
        "Sophos": {
         "detected": false,
         "result": null,
         "update": "20210421",
         "version": "1.0.2.0"
        },
        "Symantec": {
         "detected": false,
         "result": null,
         "update": "20210421",
         "version": "1.14.0.0"
        },
        "TACHYON": {
         "detected": false,
         "result": null,
         "update": "20210421",
         "version": "2021-04-21.02"
        },
        "Tencent": {
         "detected": false,
         "result": null,
         "update": "20210421",
         "version": "1.0.0.1"
        },
        "TrendMicro": {
         "detected": false,
         "result": null,
         "update": "20210330",
         "version": "11.0.0.1006"
        },
        "TrendMicro-HouseCall": {
         "detected": false,
         "result": null,
         "update": "20210421",
         "version": "10.0.0.1040"
        },
        "VBA32": {
         "detected": false,
         "result": null,
         "update": "20210421",
         "version": "5.0.0"
        },
        "VIPRE": {
         "detected": false,
         "result": null,
         "update": "20210421",
         "version": "91988"
        },
        "ViRobot": {
         "detected": false,
         "result": null,
         "update": "20210421",
         "version": "2014.3.20.0"
        },
        "Webroot": {
         "detected": false,
         "result": null,
         "update": "20210421",
         "version": "1.0.0.403"
        },
        "Yandex": {
         "detected": false,
         "result": null,
         "update": "20210420",
         "version": "5.5.2.24"
        },
        "Zillya": {
         "detected": false,
         "result": null,
         "update": "20210421",
         "version": "2.0.0.4347"
        },
        "ZoneAlarm": {
         "detected": false,
         "result": null,
         "update": "20210421",
         "version": "1.0"
        },
        "Zoner": {
         "detected": false,
         "result": null,
         "update": "20210420",
         "version": "0.0.0.0"
        },
        "eGambit": {
         "detected": false,
         "result": null,
         "update": "20210421",
         "version": null
        }
       },
       "sha1": "80ce85cbaefc5a4185b313bb4f87b183c3d3ff24",
       "sha256": "68d96d28bda975226ab021cd8a0f521ab5cb8f4cb676a7c945bf768bec834a15",
       "total": 69,
       "verbose_msg": "Scan finished, information embedded"
      },
      "text/plain": [
       "<IPython.core.display.JSON object>"
      ]
     },
     "execution_count": 1,
     "metadata": {
      "application/json": {
       "expanded": false,
       "root": "root"
      }
     },
     "output_type": "execute_result"
    }
   ],
   "source": [
    "import requests, os, hashlib\n",
    "from IPython.display import JSON\n",
    "   \n",
    "def virustotal_scan_query(filename,apikey):\n",
    "    import time\n",
    "    params = {'apikey':apikey}\n",
    "    files = {'file':(filename, open(filename,'rb'))}\n",
    "    r_post = requests.post('https://www.virustotal.com/vtapi/v2/file/scan',params=params,files=files)\n",
    "    results_json = r_post.json()\n",
    "    scan_id = results_json['scan_id']\n",
    "    params = {'apikey': apikey, \n",
    "          'resource': scan_id,\n",
    "          'allinfo': False}\n",
    "    print('Waiting for scan results...')\n",
    "    time.sleep(90)\n",
    "    report = requests.get('https://www.virustotal.com/vtapi/v2/file/report',params=params)\n",
    "    return report.json()\n",
    "\n",
    "apikey = os.getenv('VIRUSTOTAL_API_KEY') # Get API key from environment variables or define as a string here\n",
    "report = virustotal_scan_query('sublime_text.exe',apikey)\n",
    "JSON(report)"
   ]
  }
 ],
 "metadata": {
  "kernelspec": {
   "display_name": "Python 3",
   "language": "python",
   "name": "python3"
  },
  "language_info": {
   "codemirror_mode": {
    "name": "ipython",
    "version": 3
   },
   "file_extension": ".py",
   "mimetype": "text/x-python",
   "name": "python",
   "nbconvert_exporter": "python",
   "pygments_lexer": "ipython3",
   "version": "3.8.3"
  }
 },
 "nbformat": 4,
 "nbformat_minor": 4
}
